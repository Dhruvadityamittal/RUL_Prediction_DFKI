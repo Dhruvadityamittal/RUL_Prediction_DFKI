{
 "cells": [
  {
   "cell_type": "code",
   "execution_count": 1,
   "metadata": {},
   "outputs": [],
   "source": [
    "import pickle\n",
    "import numpy as np\n",
    "import matplotlib.pylab as plt\n",
    "import os\n",
    "from scipy import interpolate\n",
    "import torch\n",
    "\n",
    "from model import LSTM_Model\n",
    "from util_FPC import EarlyStopping, get_fpc\n",
    "from train_model import train_model\n",
    "from import_file import *"
   ]
  },
  {
   "cell_type": "code",
   "execution_count": 2,
   "metadata": {},
   "outputs": [],
   "source": [
    "# def interp(v, q, num):\n",
    "#     f = interpolate.interp1d(v,q,kind='linear')\n",
    "#     v_new = np.linspace(v[0],v[-1],num)\n",
    "#     q_new = f(v_new)\n",
    "#     vq_new = np.concatenate((v_new.reshape(-1,1),q_new.reshape(-1,1)),axis=1)\n",
    "#     return q_new\n",
    "\n",
    "# n_cyc = 100\n",
    "# in_stride = 10\n",
    "# fea_num = 100\n",
    "\n",
    "# v_low = 3.36\n",
    "# v_upp = 3.60\n",
    "# q_low = 610\n",
    "# q_upp = 1190\n",
    "# rul_factor = 3000\n",
    "# cap_factor = 1190\n",
    "# fea_num =   100\n",
    "\n",
    "# data_features = []\n",
    "# for name in os.listdir(\"./Datasets/our_data\")[0:]:\n",
    "#     name = name[0:-4]\n",
    "#     bat1 = pickle.load(open(r'./Datasets/our_data/'+name+'.pkl', 'rb'))\n",
    "#     # list(bat1['1-2']['data'].keys())[9:]\n",
    "#     A_rul = bat1[name]['rul']\n",
    "#     A_dq = bat1[name]['dq']\n",
    "#     A_df = bat1[name]['data']\n",
    "#     all_idx = list(A_dq.keys())[9:]\n",
    "#     all_fea, rul_lbl, cap_lbl = [], [], []\n",
    "#     for cyc in all_idx:\n",
    "#         tmp = A_df[cyc]\n",
    "#         tmp = tmp.loc[tmp['Status'].apply(lambda x: not 'discharge' in x)]\n",
    "        \n",
    "#         left = (tmp['Current (mA)']<5000).argmax() + 1\n",
    "#         right = (tmp['Current (mA)']<1090).argmax() - 2\n",
    "\n",
    "#         tmp = tmp.iloc[left:right]\n",
    "\n",
    "#         tmp_v = tmp['Voltage (V)'].values\n",
    "#         tmp_q = tmp['Capacity (mAh)'].values\n",
    "#         tmp_t = tmp['Time (s)'].values\n",
    "#         v_fea = interp(tmp_t, tmp_v, fea_num)\n",
    "#         q_fea = interp(tmp_t, tmp_q, fea_num)\n",
    "\n",
    "#         tmp_fea = np.hstack((v_fea.reshape(-1,1), q_fea.reshape(-1,1)))\n",
    "        \n",
    "#         all_fea.append(np.expand_dims(tmp_fea,axis=0))\n",
    "#         rul_lbl.append(A_rul[cyc])\n",
    "        \n",
    "#         cap_lbl.append(A_dq[cyc])\n",
    "            \n",
    "        \n",
    "        \n",
    "#     all_fea = np.vstack(all_fea)\n",
    "#     rul_lbl = np.array(rul_lbl)\n",
    "#     cap_lbl = np.array(cap_lbl)\n",
    "    \n",
    "#     all_fea_c = all_fea.copy()\n",
    "#     all_fea_c[:,:,0] = (all_fea_c[:,:,0]-v_low)/(v_upp-v_low)\n",
    "#     all_fea_c[:,:,1] = (all_fea_c[:,:,1]-q_low)/(q_upp-q_low)\n",
    "#     dif_fea = all_fea_c - all_fea_c[0:1,:,:]\n",
    "#     all_fea = np.concatenate((all_fea,dif_fea),axis=2)\n",
    "    \n",
    "\n",
    "#     data_features.append((all_fea,cap_lbl))\n",
    "#     # all_fea = np.lib.stride_tricks.sliding_window_view(all_fea,(n_cyc,fea_num,4))\n",
    "#     # cap_lbl = np.lib.stride_tricks.sliding_window_view(cap_lbl,(n_cyc,))\n",
    "#     # all_fea = all_fea.squeeze(axis=(1,2,))\n",
    "#     # rul_lbl = rul_lbl[n_cyc-1:]\n",
    "#     # all_fea = all_fea[:,(in_stride - 1)::in_stride,:,:]\n",
    "#     # cap_lbl = cap_lbl[:,(in_stride - 1)::in_stride,]\n",
    "    \n",
    "#     # all_fea_new = np.zeros(all_fea.shape)\n",
    "#     # all_fea_new[:,:,:,0] = (all_fea[:,:,:,0]-v_low)/(v_upp-v_low)\n",
    "#     # all_fea_new[:,:,:,1] = (all_fea[:,:,:,1]-q_low)/(q_upp-q_low)\n",
    "#     # all_fea_new[:,:,:,2] = all_fea[:,:,:,2]\n",
    "#     # all_fea_new[:,:,:,3] = all_fea[:,:,:,3]\n",
    "#     # print(f'{name} length is {all_fea_new.shape[0]}', \n",
    "#     #       'v_max:', '%.4f'%all_fea_new[:,:,:,0].max(),\n",
    "#     #       'q_max:', '%.4f'%all_fea_new[:,:,:,1].max(),\n",
    "#     #       'dv_max:', '%.4f'%all_fea_new[:,:,:,2].max(), \n",
    "#     #       'dq_max:', '%.4f'%all_fea_new[:,:,:,3].max())\n",
    "#     # rul_lbl = rul_lbl / rul_factor\n",
    "#     # cap_lbl = cap_lbl / cap_factor\n",
    "#     # plt.ylim([0.85, 1.25])\n",
    "#     plt.plot(cap_lbl/cap_factor)\n",
    "#     plt.xlabel(\"Cycles\")\n",
    "#     plt.ylabel(\"Discharge capacity (Ah)\")"
   ]
  },
  {
   "cell_type": "code",
   "execution_count": 3,
   "metadata": {},
   "outputs": [],
   "source": [
    "# np.save(\"Datasets/snl_data.npy\", np.array(data_features), allow_pickle=True)\n",
    "discharge_capacities_SNL = np.load(\"./Datasets/snl_data.npy\",allow_pickle=True)\n",
    "\n",
    "discharge_capacities_SNL[0][0].shape\n",
    "d = []\n",
    "for battery_temp in discharge_capacities_SNL:\n",
    "    a = np.squeeze(battery_temp[0], axis = 1)     # Voltage/Current Features\n",
    "    b = np.expand_dims(battery_temp[1], axis =1)  # Discharge Capccity\n",
    "    c = np.concatenate((b,a), axis =1).T\n",
    "    d.append(c)\n",
    "\n",
    "discharge_capacities_SNL = d"
   ]
  },
  {
   "cell_type": "code",
   "execution_count": null,
   "metadata": {},
   "outputs": [],
   "source": []
  },
  {
   "cell_type": "code",
   "execution_count": 37,
   "metadata": {},
   "outputs": [],
   "source": [
    "from torch.utils.data import Dataset, DataLoader\n",
    "from dataloader import battery_dataloader\n",
    "def get_data_SNL(discharge_capacities,percentage,window_size,stride,channels,type):\n",
    "\n",
    "    train_data =[]\n",
    "    FPC_data  =[]\n",
    "    name = 0\n",
    "    test_data = []\n",
    "    FPC_data_dict ={}\n",
    "    test_data_dict = {}\n",
    "    if(type == \"train\"):\n",
    "        \n",
    "        for battery in discharge_capacities:\n",
    " \n",
    "            battery = np.asarray([battery[i] for i in channels])\n",
    "            battery_name = 'battery' + str(name)\n",
    "            FPC_data_dict[battery_name] =[]\n",
    "            name = name+1\n",
    "            \n",
    "            # Taking inital x% as input and giving the output as 1\n",
    "            i= 0\n",
    "            target = 1\n",
    "            while(i+stride+window_size <= int(percentage*len(battery[0])) and len(battery[0][i:i+window_size]) == window_size):\n",
    "                train_data.append((battery[:,i:i+window_size], target,battery_name ))\n",
    "                i = i+stride\n",
    "\n",
    "            # Taking inputs in the middle for FPC\n",
    "            i = int(percentage*len(battery[0]))\n",
    "            target = -1\n",
    "            while(i+stride+window_size <= int((1-percentage)*len(battery[0])) and len(battery[0][i:i+window_size]) == window_size):\n",
    "                FPC_data.append((battery[:,i:i+window_size], target,battery_name))\n",
    "                FPC_data_dict[battery_name].append(torch.tensor(battery[:,i:i+window_size]).float())\n",
    "                i = i+stride\n",
    "\n",
    "            # Taking last x% as input and giving the output as 0\n",
    "            i = int((1-percentage)*len(battery[0]))\n",
    "            target = 0\n",
    "            while(i+stride <= len(battery[0]) and len(battery[0][i:i+window_size]) == window_size):\n",
    "                train_data.append((battery[:,i:i+window_size], target ,battery_name))\n",
    "                i = i+stride\n",
    "            # print(len(FPC_data)-a, len(battery[0]), len(FPC_data)-a- .90*len(battery[0]))\n",
    "\n",
    "        return train_data,FPC_data,FPC_data_dict\n",
    "\n",
    "    else:\n",
    "        name = 70\n",
    "        for battery in discharge_capacities:\n",
    "            \n",
    "            battery = np.asarray([battery[i] for i in channels])\n",
    "            i= 0\n",
    "            battery_name = 'battery' + str(name)\n",
    "            test_data_dict[battery_name] =[]\n",
    "            name = name+1\n",
    "            while(i+stride <= len(battery[0]) and len(battery[0][i:i+window_size]) == window_size):\n",
    "                test_data.append((battery[:,i:i+window_size], 1,battery_name))\n",
    "                test_data_dict[battery_name].append(torch.tensor(battery[:,i:i+window_size]).float())\n",
    "                i = i+stride\n",
    "\n",
    "        return test_data,test_data_dict\n",
    "    \n",
    "\n",
    "\n",
    "def get_change_indices(model,discharge_capacities,channels,get_saved_indices, version):\n",
    "\n",
    "    changes_train = []\n",
    "    changes_test = []\n",
    "    epochs = 50\n",
    "    # os.mkdir(\"/kaggle/working/change_indices\")\n",
    "\n",
    "    ch = ''.join(map(str,channels))\n",
    "    if(not get_saved_indices):\n",
    "            \n",
    "        for channels in [channels]: \n",
    "            print(\"Channels used : \", channels)\n",
    "            percentage  = 0.10  # 5 percent data\n",
    "            window_size = 50    # window size\n",
    "            stride = 1          # stride\n",
    "            \n",
    "            train_data,FPC_data,FPC_data_dict = get_data_SNL(discharge_capacities[0:70],percentage,window_size,stride,channels,type = \"train\")\n",
    "            test_data,test_data_dict  = get_data_SNL(discharge_capacities[70:],None,window_size,stride,channels,type= \"test\")\n",
    "            \n",
    "            obj_train  = battery_dataloader(train_data)\n",
    "            obj_FPC  = battery_dataloader(FPC_data)\n",
    "            obj_test  = battery_dataloader(test_data)\n",
    "\n",
    "            train_dataloader = DataLoader(obj_train, batch_size=8,shuffle=True)\n",
    "            FPC_dataloader   = DataLoader(obj_FPC,batch_size=1,shuffle=False)\n",
    "            test_dataloader = DataLoader(obj_test, batch_size=1,shuffle=False)\n",
    "\n",
    "            print(\"Shape of a batch    :\",next(iter(train_dataloader))[0].shape)\n",
    "    \n",
    "\n",
    "            batteries_train =[i for i in range (5)]\n",
    "            batteries_test= [70+i for i in range(0,7)]\n",
    "\n",
    "           \n",
    "            change_percentage_train, change_indices_train =  get_fpc(model,batteries_train,discharge_capacities,FPC_data_dict,False, False,True,\"\")\n",
    "            change_percentage_test, change_indices_test =  get_fpc(model,batteries_test,discharge_capacities,test_data_dict,False, False,False,\"\")\n",
    "\n",
    "            \n",
    "\n",
    "            changes_train.append(np.mean(change_percentage_train))\n",
    "            changes_test.append(np.mean(change_percentage_test))\n",
    "\n",
    "            print(\"Mean FPC for Training is {}and Test is {} :\".format(np.mean(changes_train), np.mean(changes_test)))\n",
    "            \n",
    "            \n",
    "            if(os.path.exists(\"./change_indices\") == False):\n",
    "                os.mkdir(\"./change_indices\")\n",
    "\n",
    "            np.save(f\"./change_indices/change_indices_SNL_train_{ch}_version{version}.npy\",change_indices_train, allow_pickle=True)\n",
    "            np.save(f\"./change_indices/change_indices_SNL_test_{ch}_version{version}.npy\",change_indices_test, allow_pickle=True)\n",
    "\n",
    "            np.save(f\"./change_indices/change_percentage_SNL_train_{ch}_version{version}.npy\",change_percentage_train, allow_pickle=True)\n",
    "            np.save(f\"./change_indices/change_percentage_SNL_test_{ch}_version{version}.npy\",change_percentage_test, allow_pickle=True)\n",
    "\n",
    "    else:\n",
    "        print(\"Loading Old Indices\")\n",
    "        change_indices_train = np.load(f\"./change_indices/change_indices_SNL_train_{ch}_version{version}.npy\" , allow_pickle=True)\n",
    "        change_indices_test = np.load(f\"./change_indices/change_indices_SNL_test_{ch}_version{version}.npy\",allow_pickle=True)\n",
    "        \n",
    "        change_percentage_train = np.load(f\"./change_indices/change_percentage_SNL_train_{ch}_version{version}.npy\",allow_pickle=True)\n",
    "        change_percentage_test = np.load(f\"./change_indices/change_percentage_SNL_test_{ch}_version{version}.npy\",allow_pickle=True)\n",
    "\n",
    "        print(\"Mean FPC for Training is {}and Test is {}\".format(np.mean(change_percentage_train), np.mean(change_percentage_test)))\n",
    "\n",
    "    return change_indices_train, change_indices_test, change_percentage_train, change_percentage_test\n",
    "\n",
    "\n",
    "    "
   ]
  },
  {
   "cell_type": "code",
   "execution_count": 15,
   "metadata": {},
   "outputs": [],
   "source": [
    "percentage  = 0.10  # 10 percent data\n",
    "window_size = 50    # window size\n",
    "stride = 1          # stride\n",
    "channels  =[0,1,2,3,4] # channels\n",
    "\n",
    "\n",
    "train_data_SNL, FPC_data_SNL, FPC_data_dict_SNL= get_data_SNL(discharge_capacities_SNL[0:70], \n",
    "                                                              percentage, window_size , stride, channels, \"train\")\n",
    "test_data_SNL,test_data_dict_SNL  = get_data_SNL(discharge_capacities_SNL[70:],None,window_size,stride,channels,type= \"test\")\n"
   ]
  },
  {
   "cell_type": "code",
   "execution_count": 16,
   "metadata": {},
   "outputs": [],
   "source": [
    "obj_train_SNL  = battery_dataloader(train_data_SNL)\n",
    "obj_FPC_SNL  = battery_dataloader(FPC_data_SNL)\n",
    "obj_test_SNL  = battery_dataloader(test_data_SNL)\n",
    "\n",
    "train_dataloader_SNL = DataLoader(obj_train_SNL, batch_size=8,shuffle=True)\n",
    "FPC_dataloader_SNL   = DataLoader(obj_FPC_SNL,batch_size=1,shuffle=False)\n",
    "test_dataloader_SNL = DataLoader(obj_test_SNL, batch_size=1,shuffle=False)\n"
   ]
  },
  {
   "cell_type": "code",
   "execution_count": 17,
   "metadata": {},
   "outputs": [
    {
     "name": "stdout",
     "output_type": "stream",
     "text": [
      "Shape of a batch    : torch.Size([1, 5, 50])\n"
     ]
    }
   ],
   "source": [
    "print(\"Shape of a batch    :\",next(iter(FPC_dataloader_SNL))[0].shape)"
   ]
  },
  {
   "cell_type": "code",
   "execution_count": 18,
   "metadata": {},
   "outputs": [
    {
     "name": "stdout",
     "output_type": "stream",
     "text": [
      "Loss = 0.6937876557899002 Accuarcy =0.5020290017127991\n"
     ]
    }
   ],
   "source": [
    "\n",
    "device = \"cpu\"\n",
    "epochs = 1\n",
    "learning_rate = 0.01\n",
    "\n",
    "pretrained = False\n",
    "load_pretrained = False\n",
    "version = 1\n",
    "\n",
    "ch = ''.join(map(str,channels))\n",
    "\n",
    "# model = CNN_Model(window_size,len(channels))\n",
    "model = LSTM_Model(window_size,len(channels))\n",
    "\n",
    "model_dir = \"./Weights/FPC/\"\n",
    "model_path = f'{model_dir}/model_SNL_f{ch}_f{window_size}_f{model.name}_f{version}.pth'\n",
    "\n",
    "if(load_pretrained):\n",
    "    model.load_state_dict(torch.load(model_path, map_location=device ))\n",
    "\n",
    "model.to(device)\n",
    "\n",
    "\n",
    "optimizer = torch.optim.Adam(model.parameters(), lr = learning_rate, betas= (0.9, 0.99))\n",
    "criterion = nn.BCELoss()\n",
    "\n",
    "early_stopping = EarlyStopping(patience=20)\n",
    "\n",
    "\n",
    "if(pretrained):\n",
    "    \n",
    "    model.load_state_dict(torch.load(model_path, map_location=device ))\n",
    "    model.to(device)\n",
    "else:\n",
    "    model = train_model(model, optimizer, criterion, early_stopping,train_dataloader_SNL,epochs,learning_rate,load_pretrained,model_path,version)\n",
    "\n",
    "version = 2\n",
    "# Get Change Indices\n"
   ]
  },
  {
   "cell_type": "code",
   "execution_count": null,
   "metadata": {},
   "outputs": [],
   "source": [
    "for data in train_dataloader_SNL:\n",
    "    print(data)\n",
    "    exit()"
   ]
  },
  {
   "cell_type": "code",
   "execution_count": 39,
   "metadata": {},
   "outputs": [
    {
     "data": {
      "text/plain": [
       "<Figure size 432x288 with 0 Axes>"
      ]
     },
     "metadata": {},
     "output_type": "display_data"
    },
    {
     "data": {
      "image/png": "[encoded data removed]",
      "text/plain": [
       "<Figure size 720x432 with 3 Axes>"
      ]
     },
     "metadata": {
      "needs_background": "light"
     },
     "output_type": "display_data"
    }
   ],
   "source": [
    "batteries = [i for i in range(0,3)]\n",
    "_,_ = get_fpc(model,batteries,discharge_capacities_SNL,FPC_data_dict_SNL,True, True,True,\"Outputs/FPC_Training_SNL\")"
   ]
  },
  {
   "cell_type": "code",
   "execution_count": 38,
   "metadata": {},
   "outputs": [
    {
     "name": "stdout",
     "output_type": "stream",
     "text": [
      "Channels used :  [0, 1, 2, 3, 4]\n",
      "Shape of a batch    : torch.Size([8, 5, 50])\n",
      "Mean FPC for Training is 84.53056956643795and Test is 74.56136361794758 :\n"
     ]
    },
    {
     "data": {
      "text/plain": [
       "<Figure size 432x288 with 0 Axes>"
      ]
     },
     "metadata": {},
     "output_type": "display_data"
    },
    {
     "data": {
      "text/plain": [
       "<Figure size 432x288 with 0 Axes>"
      ]
     },
     "metadata": {},
     "output_type": "display_data"
    }
   ],
   "source": [
    "change_indices_train,change_indices_test, _, _ = get_change_indices(model,discharge_capacities_SNL,channels,get_saved_indices = False, version = 1)\n",
    "change_indices_all = np.concatenate((change_indices_train,change_indices_test))"
   ]
  },
  {
   "cell_type": "code",
   "execution_count": 34,
   "metadata": {},
   "outputs": [
    {
     "data": {
      "text/plain": [
       "77"
      ]
     },
     "execution_count": 34,
     "metadata": {},
     "output_type": "execute_result"
    }
   ],
   "source": []
  },
  {
   "cell_type": "code",
   "execution_count": null,
   "metadata": {},
   "outputs": [],
   "source": []
  }
 ],
 "metadata": {
  "kernelspec": {
   "display_name": "Battery_RUL",
   "language": "python",
   "name": "python3"
  },
  "language_info": {
   "codemirror_mode": {
    "name": "ipython",
    "version": 3
   },
   "file_extension": ".py",
   "mimetype": "text/x-python",
   "name": "python",
   "nbconvert_exporter": "python",
   "pygments_lexer": "ipython3",
   "version": "3.9.12"
  },
  "orig_nbformat": 4
 },
 "nbformat": 4,
 "nbformat_minor": 2
}
