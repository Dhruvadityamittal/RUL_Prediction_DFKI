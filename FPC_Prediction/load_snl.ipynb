{
 "cells": [
  {
   "cell_type": "code",
   "execution_count": 1,
   "metadata": {},
   "outputs": [],
   "source": [
    "import pandas as pd\n",
    "import os\n",
    "import numpy as np\n",
    "from matplotlib.pylab import plt"
   ]
  },
  {
   "cell_type": "code",
   "execution_count": 40,
   "metadata": {},
   "outputs": [],
   "source": [
    "SNL_LFP = os.listdir(\"/media/dhruvadityamittal/6570599A54FA2590/Dhruv/SNL/SNL LFP\")\n",
    "SNL_NCA = os.listdir(\"/media/dhruvadityamittal/6570599A54FA2590/Dhruv/SNL/SNL NCA\")\n",
    "SNL_NMC = os.listdir(\"/media/dhruvadityamittal/6570599A54FA2590/Dhruv/SNL/SNL NMC\")\n",
    "\n",
    "data_LFP1 = pd.read_csv(os.path.join(\"/media/dhruvadityamittal/6570599A54FA2590/Dhruv/SNL/SNL LFP\", SNL_LFP[0]))"
   ]
  },
  {
   "cell_type": "code",
   "execution_count": 41,
   "metadata": {},
   "outputs": [
    {
     "data": {
      "text/plain": [
       "4550"
      ]
     },
     "execution_count": 41,
     "metadata": {},
     "output_type": "execute_result"
    }
   ],
   "source": [
    "len(data_LFP1)"
   ]
  },
  {
   "cell_type": "code",
   "execution_count": 42,
   "metadata": {},
   "outputs": [
    {
     "data": {
      "text/html": [
       "<div>\n",
       "<style scoped>\n",
       "    .dataframe tbody tr th:only-of-type {\n",
       "        vertical-align: middle;\n",
       "    }\n",
       "\n",
       "    .dataframe tbody tr th {\n",
       "        vertical-align: top;\n",
       "    }\n",
       "\n",
       "    .dataframe thead th {\n",
       "        text-align: right;\n",
       "    }\n",
       "</style>\n",
       "<table border=\"1\" class=\"dataframe\">\n",
       "  <thead>\n",
       "    <tr style=\"text-align: right;\">\n",
       "      <th></th>\n",
       "      <th>Cycle_Index</th>\n",
       "      <th>Start_Time</th>\n",
       "      <th>End_Time</th>\n",
       "      <th>Test_Time (s)</th>\n",
       "      <th>Min_Current (A)</th>\n",
       "      <th>Max_Current (A)</th>\n",
       "      <th>Min_Voltage (V)</th>\n",
       "      <th>Max_Voltage (V)</th>\n",
       "      <th>Charge_Capacity (Ah)</th>\n",
       "      <th>Discharge_Capacity (Ah)</th>\n",
       "      <th>Charge_Energy (Wh)</th>\n",
       "      <th>Discharge_Energy (Wh)</th>\n",
       "    </tr>\n",
       "  </thead>\n",
       "  <tbody>\n",
       "    <tr>\n",
       "      <th>0</th>\n",
       "      <td>1.0</td>\n",
       "      <td>2018-02-01 10:02:10.002962</td>\n",
       "      <td>2018-02-01 14:22:45.311114</td>\n",
       "      <td>15645.311</td>\n",
       "      <td>-0.55</td>\n",
       "      <td>0.55</td>\n",
       "      <td>1.998</td>\n",
       "      <td>3.6</td>\n",
       "      <td>1.019</td>\n",
       "      <td>1.030</td>\n",
       "      <td>3.467</td>\n",
       "      <td>3.274</td>\n",
       "    </tr>\n",
       "    <tr>\n",
       "      <th>1</th>\n",
       "      <td>2.0</td>\n",
       "      <td>2018-02-01 14:22:45.342898</td>\n",
       "      <td>2018-02-01 18:40:11.752185</td>\n",
       "      <td>31091.752</td>\n",
       "      <td>-0.55</td>\n",
       "      <td>0.55</td>\n",
       "      <td>1.995</td>\n",
       "      <td>3.6</td>\n",
       "      <td>1.037</td>\n",
       "      <td>1.032</td>\n",
       "      <td>3.509</td>\n",
       "      <td>3.281</td>\n",
       "    </tr>\n",
       "    <tr>\n",
       "      <th>2</th>\n",
       "      <td>3.0</td>\n",
       "      <td>2018-02-01 18:40:11.813887</td>\n",
       "      <td>2018-02-01 22:57:06.174243</td>\n",
       "      <td>46506.174</td>\n",
       "      <td>-0.55</td>\n",
       "      <td>0.55</td>\n",
       "      <td>1.997</td>\n",
       "      <td>3.6</td>\n",
       "      <td>1.037</td>\n",
       "      <td>1.033</td>\n",
       "      <td>3.510</td>\n",
       "      <td>3.284</td>\n",
       "    </tr>\n",
       "    <tr>\n",
       "      <th>3</th>\n",
       "      <td>4.0</td>\n",
       "      <td>2018-02-01 22:57:06.174411</td>\n",
       "      <td>2018-02-02 05:26:31.589611</td>\n",
       "      <td>69871.589</td>\n",
       "      <td>-1.10</td>\n",
       "      <td>0.55</td>\n",
       "      <td>1.995</td>\n",
       "      <td>3.6</td>\n",
       "      <td>2.075</td>\n",
       "      <td>2.065</td>\n",
       "      <td>7.016</td>\n",
       "      <td>6.418</td>\n",
       "    </tr>\n",
       "    <tr>\n",
       "      <th>4</th>\n",
       "      <td>5.0</td>\n",
       "      <td>2018-02-02 05:28:31.613008</td>\n",
       "      <td>2018-02-02 08:34:59.918204</td>\n",
       "      <td>81179.918</td>\n",
       "      <td>-1.10</td>\n",
       "      <td>0.55</td>\n",
       "      <td>1.993</td>\n",
       "      <td>3.6</td>\n",
       "      <td>1.037</td>\n",
       "      <td>1.033</td>\n",
       "      <td>3.502</td>\n",
       "      <td>3.210</td>\n",
       "    </tr>\n",
       "  </tbody>\n",
       "</table>\n",
       "</div>"
      ],
      "text/plain": [
       "   Cycle_Index                  Start_Time                    End_Time  \\\n",
       "0          1.0  2018-02-01 10:02:10.002962  2018-02-01 14:22:45.311114   \n",
       "1          2.0  2018-02-01 14:22:45.342898  2018-02-01 18:40:11.752185   \n",
       "2          3.0  2018-02-01 18:40:11.813887  2018-02-01 22:57:06.174243   \n",
       "3          4.0  2018-02-01 22:57:06.174411  2018-02-02 05:26:31.589611   \n",
       "4          5.0  2018-02-02 05:28:31.613008  2018-02-02 08:34:59.918204   \n",
       "\n",
       "   Test_Time (s)  Min_Current (A)  Max_Current (A)  Min_Voltage (V)  \\\n",
       "0      15645.311            -0.55             0.55            1.998   \n",
       "1      31091.752            -0.55             0.55            1.995   \n",
       "2      46506.174            -0.55             0.55            1.997   \n",
       "3      69871.589            -1.10             0.55            1.995   \n",
       "4      81179.918            -1.10             0.55            1.993   \n",
       "\n",
       "   Max_Voltage (V)  Charge_Capacity (Ah)  Discharge_Capacity (Ah)  \\\n",
       "0              3.6                 1.019                    1.030   \n",
       "1              3.6                 1.037                    1.032   \n",
       "2              3.6                 1.037                    1.033   \n",
       "3              3.6                 2.075                    2.065   \n",
       "4              3.6                 1.037                    1.033   \n",
       "\n",
       "   Charge_Energy (Wh)  Discharge_Energy (Wh)  \n",
       "0               3.467                  3.274  \n",
       "1               3.509                  3.281  \n",
       "2               3.510                  3.284  \n",
       "3               7.016                  6.418  \n",
       "4               3.502                  3.210  "
      ]
     },
     "execution_count": 42,
     "metadata": {},
     "output_type": "execute_result"
    }
   ],
   "source": [
    "data_LFP1 = data_LFP1.drop_duplicates(subset=['Cycle_Index'])\n",
    "data_LFP1.head()"
   ]
  },
  {
   "cell_type": "code",
   "execution_count": 43,
   "metadata": {},
   "outputs": [
    {
     "data": {
      "text/plain": [
       "Text(0, 0.5, 'Discharge Capacity')"
      ]
     },
     "execution_count": 43,
     "metadata": {},
     "output_type": "execute_result"
    },
    {
     "data": {
      "image/png": "[encoded data removed]",
      "text/plain": [
       "<Figure size 640x480 with 1 Axes>"
      ]
     },
     "metadata": {},
     "output_type": "display_data"
    }
   ],
   "source": [
    "plt.plot(data_LFP1[\"Cycle_Index\"], data_LFP1[\"Discharge_Energy (Wh)\"])\n",
    "plt.xlabel(\"Cycles\")\n",
    "plt.ylabel(\"Discharge Capacity\")"
   ]
  },
  {
   "cell_type": "code",
   "execution_count": 44,
   "metadata": {},
   "outputs": [
    {
     "data": {
      "text/plain": [
       "[<matplotlib.lines.Line2D at 0x7f3f6314f400>]"
      ]
     },
     "execution_count": 44,
     "metadata": {},
     "output_type": "execute_result"
    },
    {
     "data": {
      "image/png": "[encoded data removed]",
      "text/plain": [
       "<Figure size 640x480 with 1 Axes>"
      ]
     },
     "metadata": {},
     "output_type": "display_data"
    }
   ],
   "source": [
    "plt.plot(data_LFP1[\"Discharge_Energy (Wh)\"].expanding().mean())"
   ]
  },
  {
   "cell_type": "code",
   "execution_count": null,
   "metadata": {},
   "outputs": [],
   "source": []
  }
 ],
 "metadata": {
  "kernelspec": {
   "display_name": "Battery_RUL",
   "language": "python",
   "name": "python3"
  },
  "language_info": {
   "codemirror_mode": {
    "name": "ipython",
    "version": 3
   },
   "file_extension": ".py",
   "mimetype": "text/x-python",
   "name": "python",
   "nbconvert_exporter": "python",
   "pygments_lexer": "ipython3",
   "version": "3.10.12"
  },
  "orig_nbformat": 4
 },
 "nbformat": 4,
 "nbformat_minor": 2
}
