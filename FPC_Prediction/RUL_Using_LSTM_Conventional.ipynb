{
 "cells": [
  {
   "cell_type": "code",
   "execution_count": 1,
   "metadata": {},
   "outputs": [],
   "source": [
    "import numpy as np\n",
    "import torch\n",
    "import torch.nn as nn\n",
    "import pandas\n",
    "from torch.utils.data import DataLoader,Dataset, random_split, Subset\n",
    "from matplotlib.pylab import plt\n",
    "import warnings\n",
    "\n",
    "from torchmetrics.classification import BinaryAccuracy\n",
    "import os\n",
    "import shutil\n",
    "from util_FPC import EarlyStopping\n",
    "from load_data_conventional import *\n",
    "from dataloader_conventional import *\n",
    "from train_model_conventional import *\n",
    "from model_conventional import *\n",
    "\n",
    "\n",
    "warnings.filterwarnings('ignore')\n",
    "device = 'cuda' if torch.cuda.is_available() else 'cpu'"
   ]
  },
  {
   "cell_type": "code",
   "execution_count": 2,
   "metadata": {},
   "outputs": [
    {
     "data": {
      "text/plain": [
       "(7, 1851)"
      ]
     },
     "execution_count": 2,
     "metadata": {},
     "output_type": "execute_result"
    }
   ],
   "source": [
    "discharge_capacities = np.load(r\"./Datasets/discharge_capacity.npy\", allow_pickle=True)\n",
    "discharge_capacities = discharge_capacities.tolist()\n",
    "percentage = 0.40\n",
    "\n",
    "np.array(discharge_capacities[0]).shape"
   ]
  },
  {
   "cell_type": "code",
   "execution_count": 3,
   "metadata": {},
   "outputs": [
    {
     "name": "stdout",
     "output_type": "stream",
     "text": [
      "Cell with Maximum length : 2\n",
      "Maximum cycle length : 2236\n",
      "Maximum Length for training X: 894\n",
      "Maximum Length of output     : 1342\n"
     ]
    }
   ],
   "source": [
    "max_length_train,max_length_out = get_lengths(discharge_capacities,percentage)\n",
    "max_length_out = max_length_out+1"
   ]
  },
  {
   "cell_type": "code",
   "execution_count": 4,
   "metadata": {},
   "outputs": [],
   "source": [
    "\n",
    "channels = [0,1,2,3,4,5,6]"
   ]
  },
  {
   "cell_type": "code",
   "execution_count": 5,
   "metadata": {},
   "outputs": [
    {
     "data": {
      "text/plain": [
       "Text(0, 0.5, 'Discharge Capacity')"
      ]
     },
     "execution_count": 5,
     "metadata": {},
     "output_type": "execute_result"
    },
    {
     "data": {
      "image/png": "[encoded data removed]",
      "text/plain": [
       "<Figure size 432x288 with 1 Axes>"
      ]
     },
     "metadata": {
      "needs_background": "light"
     },
     "output_type": "display_data"
    }
   ],
   "source": [
    "ind = 109\n",
    "\n",
    "plt.plot(discharge_capacities[ind][0])\n",
    "# plt.plot(X_train_padded[ind])\n",
    "plt.plot(discharge_capacities[ind][0][0:int(0.4*len(discharge_capacities[ind][0]))])\n",
    "\n",
    "# if(ind != cell_with_max_cycle_life):\n",
    "#     plt.plot(np.pad(Y_train_padded[ind],(list(X_train_padded[ind][0]).index(-0.1),0),constant_values=(-1)))\n",
    "    \n",
    "# else:\n",
    "#     plt.plot(np.pad(Y_train_padded[ind],(len(X_train_padded[ind][0]),0),constant_values=(-1)))\n",
    "\n",
    "plt.legend(['Actual', 'Input', 'Output'])\n",
    "# plt.title(\"Input and Output Data\")\n",
    "plt.xlabel(\"Number of cycles\")\n",
    "plt.ylabel(\"Discharge Capacity\")"
   ]
  },
  {
   "cell_type": "code",
   "execution_count": 6,
   "metadata": {},
   "outputs": [
    {
     "name": "stdout",
     "output_type": "stream",
     "text": [
      "*********************  Fold = 0  ********************* \n",
      "\n",
      "\n",
      "Epoch = 0, Train Loss = 0.19441347115713617, Val MSE = 0.10650476647747888, MAE = 0.23693147715595034, MAPE = 686.8940642674764\n",
      "Epoch = 1, Train Loss = 0.06337190050145854, Val MSE = 0.09253969022797214, MAE = 0.21800654215945137, MAPE = 642.0414791636997\n",
      "Epoch = 2, Train Loss = 0.052434284078038254, Val MSE = 0.09014163404289219, MAE = 0.21342083397838804, MAPE = 791.9618873927328\n",
      "EarlyStopping counter: 1 out of 25\n",
      "Epoch = 3, Train Loss = 0.05162336942942246, Val MSE = 0.08166494085970852, MAE = 0.19996269709534115, MAPE = 703.3101189070278\n",
      "EarlyStopping counter: 2 out of 25\n",
      "Epoch = 4, Train Loss = 0.049544406212542365, Val MSE = 0.07760061328816745, MAE = 0.19330964734156927, MAPE = 719.298418018553\n",
      "EarlyStopping counter: 3 out of 25\n",
      "Epoch = 5, Train Loss = 0.04787293063557666, Val MSE = 0.07270553180327018, MAE = 0.19242877927091387, MAPE = 646.0516000058916\n",
      "EarlyStopping counter: 4 out of 25\n",
      "Epoch = 6, Train Loss = 0.04121291326439899, Val MSE = 0.06738758904652463, MAE = 0.18568435311317444, MAPE = 490.4419537650214\n",
      "Epoch = 7, Train Loss = 0.03344113538446634, Val MSE = 0.0630433764308691, MAE = 0.1742305788728926, MAPE = 138.74117531379065\n",
      "Epoch = 8, Train Loss = 0.034595449868103735, Val MSE = 0.05532368106974496, MAE = 0.16175293756855857, MAPE = 290.4997415939967\n",
      "EarlyStopping counter: 1 out of 25\n",
      "Epoch = 9, Train Loss = 0.029252091981470586, Val MSE = 0.05606650271349483, MAE = 0.15758929815557268, MAPE = 127.3210413588418\n",
      "Epoch = 10, Train Loss = 0.02742813126710446, Val MSE = 0.05417974448452393, MAE = 0.15416765378581154, MAPE = 201.57916716734567\n",
      "EarlyStopping counter: 1 out of 25\n",
      "Epoch = 11, Train Loss = 0.02856214806113554, Val MSE = 0.05263883568760422, MAE = 0.1526692153679, MAPE = 297.1195551951726\n",
      "EarlyStopping counter: 2 out of 25\n",
      "Epoch = 12, Train Loss = 0.027881371035524037, Val MSE = 0.05094205536362198, MAE = 0.15196455435620415, MAPE = 373.4373102982839\n",
      "EarlyStopping counter: 3 out of 25\n",
      "Epoch = 13, Train Loss = 0.026841448895309282, Val MSE = 0.050319328955892056, MAE = 0.14650874584913254, MAPE = 269.8045482635498\n",
      "EarlyStopping counter: 4 out of 25\n",
      "Epoch = 14, Train Loss = 0.026800077311370685, Val MSE = 0.048537570879691176, MAE = 0.14672884262270397, MAPE = 298.81056873003644\n",
      "EarlyStopping counter: 5 out of 25\n",
      "Epoch = 15, Train Loss = 0.026840637737642163, Val MSE = 0.04851355300181442, MAE = 0.14803899576266608, MAPE = 414.89467385080127\n",
      "EarlyStopping counter: 6 out of 25\n",
      "Epoch = 16, Train Loss = 0.02591667123462843, Val MSE = 0.04961159874478148, MAE = 0.14280270826485422, MAPE = 233.26017374462552\n",
      "EarlyStopping counter: 7 out of 25\n",
      "Epoch = 17, Train Loss = 0.026106939335232195, Val MSE = 0.049731612464206085, MAE = 0.1457138057384226, MAPE = 241.58026769426135\n",
      "EarlyStopping counter: 8 out of 25\n"
     ]
    },
    {
     "ename": "KeyboardInterrupt",
     "evalue": "",
     "output_type": "error",
     "traceback": [
      "\u001b[1;31m---------------------------------------------------------------------------\u001b[0m",
      "\u001b[1;31mKeyboardInterrupt\u001b[0m                         Traceback (most recent call last)",
      "\u001b[1;32mc:\\Users\\Dhruv\\OneDrive\\Desktop\\DFKI\\RUL_Prediction_DFKI\\FPC_Prediction\\RUL_Using_LSTM_Conventional.ipynb Cell 6\u001b[0m in \u001b[0;36m<cell line: 27>\u001b[1;34m()\u001b[0m\n\u001b[0;32m     <a href='vscode-notebook-cell:/c%3A/Users/Dhruv/OneDrive/Desktop/DFKI/RUL_Prediction_DFKI/FPC_Prediction/RUL_Using_LSTM_Conventional.ipynb#X25sZmlsZQ%3D%3D?line=32'>33</a>\u001b[0m    model\u001b[39m=\u001b[39m perform_n_folds_conventional(model, n_folds,discharge_capacities, criterion, \n\u001b[0;32m     <a href='vscode-notebook-cell:/c%3A/Users/Dhruv/OneDrive/Desktop/DFKI/RUL_Prediction_DFKI/FPC_Prediction/RUL_Using_LSTM_Conventional.ipynb#X25sZmlsZQ%3D%3D?line=33'>34</a>\u001b[0m                 optimizer, early_stopping_patiance, model_path,\n\u001b[0;32m     <a href='vscode-notebook-cell:/c%3A/Users/Dhruv/OneDrive/Desktop/DFKI/RUL_Prediction_DFKI/FPC_Prediction/RUL_Using_LSTM_Conventional.ipynb#X25sZmlsZQ%3D%3D?line=34'>35</a>\u001b[0m                 parameters,version, dataset)\n\u001b[0;32m     <a href='vscode-notebook-cell:/c%3A/Users/Dhruv/OneDrive/Desktop/DFKI/RUL_Prediction_DFKI/FPC_Prediction/RUL_Using_LSTM_Conventional.ipynb#X25sZmlsZQ%3D%3D?line=35'>36</a>\u001b[0m \u001b[39melse\u001b[39;00m:\n\u001b[1;32m---> <a href='vscode-notebook-cell:/c%3A/Users/Dhruv/OneDrive/Desktop/DFKI/RUL_Prediction_DFKI/FPC_Prediction/RUL_Using_LSTM_Conventional.ipynb#X25sZmlsZQ%3D%3D?line=36'>37</a>\u001b[0m     model \u001b[39m=\u001b[39m perform_n_folds_conventional(model, n_folds,discharge_capacities, criterion, \n\u001b[0;32m     <a href='vscode-notebook-cell:/c%3A/Users/Dhruv/OneDrive/Desktop/DFKI/RUL_Prediction_DFKI/FPC_Prediction/RUL_Using_LSTM_Conventional.ipynb#X25sZmlsZQ%3D%3D?line=37'>38</a>\u001b[0m                 optimizer, early_stopping_patiance, model_path,\n\u001b[0;32m     <a href='vscode-notebook-cell:/c%3A/Users/Dhruv/OneDrive/Desktop/DFKI/RUL_Prediction_DFKI/FPC_Prediction/RUL_Using_LSTM_Conventional.ipynb#X25sZmlsZQ%3D%3D?line=38'>39</a>\u001b[0m                 parameters,version, dataset)\n",
      "File \u001b[1;32mc:\\Users\\Dhruv\\OneDrive\\Desktop\\DFKI\\RUL_Prediction_DFKI\\FPC_Prediction\\train_model_conventional.py:132\u001b[0m, in \u001b[0;36mperform_n_folds_conventional\u001b[1;34m(model, n_folds, discharge_capacities, criterion, optimizer, early_stopping_patiance, path, parameters, version, dataset)\u001b[0m\n\u001b[0;32m    125\u001b[0m fold_path \u001b[39m=\u001b[39m path[:\u001b[39m-\u001b[39m\u001b[39m10\u001b[39m]\u001b[39m+\u001b[39m\u001b[39m\"\u001b[39m\u001b[39m_Fold\u001b[39m\u001b[39m\"\u001b[39m\u001b[39m+\u001b[39m\u001b[39mstr\u001b[39m(fold)\u001b[39m+\u001b[39m\u001b[39m\"\u001b[39m\u001b[39m.pth\u001b[39m\u001b[39m\"\u001b[39m\n\u001b[0;32m    127\u001b[0m train_dataloader, train_dataloader_RUL_temp, val_dataloder, test_dataloader \u001b[39m=\u001b[39m get_conventional_dataloader(discharge_capacities,train_batteries,\n\u001b[0;32m    128\u001b[0m                                                                                                           test_batteries,val_batteries,parameters[\u001b[39m\"\u001b[39m\u001b[39mchannels\u001b[39m\u001b[39m\"\u001b[39m],\n\u001b[0;32m    129\u001b[0m                                                                                                           parameters[\u001b[39m\"\u001b[39m\u001b[39mmax_length_train\u001b[39m\u001b[39m\"\u001b[39m],\n\u001b[0;32m    130\u001b[0m                                                                                                           parameters[\u001b[39m\"\u001b[39m\u001b[39mmax_length_out\u001b[39m\u001b[39m\"\u001b[39m],parameters[\u001b[39m\"\u001b[39m\u001b[39mpercentage\u001b[39m\u001b[39m\"\u001b[39m])\n\u001b[1;32m--> 132\u001b[0m early_stopping \u001b[39m=\u001b[39m EarlyStopping(patience\u001b[39m=\u001b[39mearly_stopping_patiance)\n\u001b[0;32m    133\u001b[0m model \u001b[39m=\u001b[39m train_model_Conventaional(model, criterion, optimizer,train_dataloader,val_dataloder,parameters[\u001b[39m\"\u001b[39m\u001b[39mepochs\u001b[39m\u001b[39m\"\u001b[39m],\n\u001b[0;32m    134\u001b[0m                         fold_path,early_stopping)\n\u001b[0;32m    136\u001b[0m test_model_conventional(model,criterion,test_dataloader,show_output\u001b[39m=\u001b[39m\u001b[39mTrue\u001b[39;00m)\n",
      "File \u001b[1;32mc:\\Users\\Dhruv\\OneDrive\\Desktop\\DFKI\\RUL_Prediction_DFKI\\FPC_Prediction\\train_model_conventional.py:32\u001b[0m, in \u001b[0;36mtrain_model_Conventaional\u001b[1;34m(model, criterion, optimizer, train_dataloader, val_dataloader, epochs, path, early_stopping)\u001b[0m\n\u001b[0;32m     30\u001b[0m     loss \u001b[39m=\u001b[39m criterion(out,y\u001b[39m.\u001b[39munsqueeze(\u001b[39m1\u001b[39m))  \u001b[39m+\u001b[39m \u001b[39m0\u001b[39m\u001b[39m*\u001b[39mcriterion(d,x)\n\u001b[0;32m     31\u001b[0m \u001b[39melse\u001b[39;00m:\n\u001b[1;32m---> 32\u001b[0m     out \u001b[39m=\u001b[39m  model(x)\n\u001b[0;32m     33\u001b[0m     loss \u001b[39m=\u001b[39m criterion(out,y)\n\u001b[0;32m     35\u001b[0m optimizer\u001b[39m.\u001b[39mzero_grad()\n",
      "File \u001b[1;32m~\\AppData\\Roaming\\Python\\Python39\\site-packages\\torch\\nn\\modules\\module.py:1190\u001b[0m, in \u001b[0;36mModule._call_impl\u001b[1;34m(self, *input, **kwargs)\u001b[0m\n\u001b[0;32m   1186\u001b[0m \u001b[39m# If we don't have any hooks, we want to skip the rest of the logic in\u001b[39;00m\n\u001b[0;32m   1187\u001b[0m \u001b[39m# this function, and just call forward.\u001b[39;00m\n\u001b[0;32m   1188\u001b[0m \u001b[39mif\u001b[39;00m \u001b[39mnot\u001b[39;00m (\u001b[39mself\u001b[39m\u001b[39m.\u001b[39m_backward_hooks \u001b[39mor\u001b[39;00m \u001b[39mself\u001b[39m\u001b[39m.\u001b[39m_forward_hooks \u001b[39mor\u001b[39;00m \u001b[39mself\u001b[39m\u001b[39m.\u001b[39m_forward_pre_hooks \u001b[39mor\u001b[39;00m _global_backward_hooks\n\u001b[0;32m   1189\u001b[0m         \u001b[39mor\u001b[39;00m _global_forward_hooks \u001b[39mor\u001b[39;00m _global_forward_pre_hooks):\n\u001b[1;32m-> 1190\u001b[0m     \u001b[39mreturn\u001b[39;00m forward_call(\u001b[39m*\u001b[39m\u001b[39minput\u001b[39m, \u001b[39m*\u001b[39m\u001b[39m*\u001b[39mkwargs)\n\u001b[0;32m   1191\u001b[0m \u001b[39m# Do not call functions when jit is used\u001b[39;00m\n\u001b[0;32m   1192\u001b[0m full_backward_hooks, non_full_backward_hooks \u001b[39m=\u001b[39m [], []\n",
      "File \u001b[1;32mc:\\Users\\Dhruv\\OneDrive\\Desktop\\DFKI\\RUL_Prediction_DFKI\\FPC_Prediction\\model_conventional.py:29\u001b[0m, in \u001b[0;36mLSTM_Model_Conventional.forward\u001b[1;34m(self, x)\u001b[0m\n\u001b[0;32m     21\u001b[0m \u001b[39mdef\u001b[39;00m \u001b[39mforward\u001b[39m(\u001b[39mself\u001b[39m,x):\n\u001b[0;32m     22\u001b[0m     \n\u001b[0;32m     23\u001b[0m     \u001b[39m# self.h0 = torch.randn(4, x.size(0), 100)\u001b[39;00m\n\u001b[1;32m   (...)\u001b[0m\n\u001b[0;32m     26\u001b[0m     \u001b[39m# x= x.view(x.shape[0],channels,x.shape[1])\u001b[39;00m\n\u001b[0;32m     27\u001b[0m     \u001b[39m# out, (hn, cn) = self.LSTM(x, (self.h0, self.c0))\u001b[39;00m\n\u001b[1;32m---> 29\u001b[0m     out, (_, _) \u001b[39m=\u001b[39m \u001b[39mself\u001b[39;49m\u001b[39m.\u001b[39;49mLSTM1(x)\n\u001b[0;32m     30\u001b[0m     out,(_,_) \u001b[39m=\u001b[39m \u001b[39mself\u001b[39m\u001b[39m.\u001b[39mLSTM2(out)\n\u001b[0;32m     32\u001b[0m     out \u001b[39m=\u001b[39m \u001b[39mself\u001b[39m\u001b[39m.\u001b[39mflatten(out)\n",
      "File \u001b[1;32m~\\AppData\\Roaming\\Python\\Python39\\site-packages\\torch\\nn\\modules\\module.py:1190\u001b[0m, in \u001b[0;36mModule._call_impl\u001b[1;34m(self, *input, **kwargs)\u001b[0m\n\u001b[0;32m   1186\u001b[0m \u001b[39m# If we don't have any hooks, we want to skip the rest of the logic in\u001b[39;00m\n\u001b[0;32m   1187\u001b[0m \u001b[39m# this function, and just call forward.\u001b[39;00m\n\u001b[0;32m   1188\u001b[0m \u001b[39mif\u001b[39;00m \u001b[39mnot\u001b[39;00m (\u001b[39mself\u001b[39m\u001b[39m.\u001b[39m_backward_hooks \u001b[39mor\u001b[39;00m \u001b[39mself\u001b[39m\u001b[39m.\u001b[39m_forward_hooks \u001b[39mor\u001b[39;00m \u001b[39mself\u001b[39m\u001b[39m.\u001b[39m_forward_pre_hooks \u001b[39mor\u001b[39;00m _global_backward_hooks\n\u001b[0;32m   1189\u001b[0m         \u001b[39mor\u001b[39;00m _global_forward_hooks \u001b[39mor\u001b[39;00m _global_forward_pre_hooks):\n\u001b[1;32m-> 1190\u001b[0m     \u001b[39mreturn\u001b[39;00m forward_call(\u001b[39m*\u001b[39m\u001b[39minput\u001b[39m, \u001b[39m*\u001b[39m\u001b[39m*\u001b[39mkwargs)\n\u001b[0;32m   1191\u001b[0m \u001b[39m# Do not call functions when jit is used\u001b[39;00m\n\u001b[0;32m   1192\u001b[0m full_backward_hooks, non_full_backward_hooks \u001b[39m=\u001b[39m [], []\n",
      "File \u001b[1;32m~\\AppData\\Roaming\\Python\\Python39\\site-packages\\torch\\nn\\modules\\rnn.py:774\u001b[0m, in \u001b[0;36mLSTM.forward\u001b[1;34m(self, input, hx)\u001b[0m\n\u001b[0;32m    772\u001b[0m \u001b[39mself\u001b[39m\u001b[39m.\u001b[39mcheck_forward_args(\u001b[39minput\u001b[39m, hx, batch_sizes)\n\u001b[0;32m    773\u001b[0m \u001b[39mif\u001b[39;00m batch_sizes \u001b[39mis\u001b[39;00m \u001b[39mNone\u001b[39;00m:\n\u001b[1;32m--> 774\u001b[0m     result \u001b[39m=\u001b[39m _VF\u001b[39m.\u001b[39;49mlstm(\u001b[39minput\u001b[39;49m, hx, \u001b[39mself\u001b[39;49m\u001b[39m.\u001b[39;49m_flat_weights, \u001b[39mself\u001b[39;49m\u001b[39m.\u001b[39;49mbias, \u001b[39mself\u001b[39;49m\u001b[39m.\u001b[39;49mnum_layers,\n\u001b[0;32m    775\u001b[0m                       \u001b[39mself\u001b[39;49m\u001b[39m.\u001b[39;49mdropout, \u001b[39mself\u001b[39;49m\u001b[39m.\u001b[39;49mtraining, \u001b[39mself\u001b[39;49m\u001b[39m.\u001b[39;49mbidirectional, \u001b[39mself\u001b[39;49m\u001b[39m.\u001b[39;49mbatch_first)\n\u001b[0;32m    776\u001b[0m \u001b[39melse\u001b[39;00m:\n\u001b[0;32m    777\u001b[0m     result \u001b[39m=\u001b[39m _VF\u001b[39m.\u001b[39mlstm(\u001b[39minput\u001b[39m, batch_sizes, hx, \u001b[39mself\u001b[39m\u001b[39m.\u001b[39m_flat_weights, \u001b[39mself\u001b[39m\u001b[39m.\u001b[39mbias,\n\u001b[0;32m    778\u001b[0m                       \u001b[39mself\u001b[39m\u001b[39m.\u001b[39mnum_layers, \u001b[39mself\u001b[39m\u001b[39m.\u001b[39mdropout, \u001b[39mself\u001b[39m\u001b[39m.\u001b[39mtraining, \u001b[39mself\u001b[39m\u001b[39m.\u001b[39mbidirectional)\n",
      "\u001b[1;31mKeyboardInterrupt\u001b[0m: "
     ]
    }
   ],
   "source": [
    "model = LSTM_Model_Conventional(max_length_train,len(channels))\n",
    "ch = ''.join(map(str,channels))\n",
    "dataset = \"MIT\"\n",
    "version = 1\n",
    "fld = 3\n",
    "\n",
    "model_dir = \"./Weights/Conventional/\"\n",
    "model_path = f'{model_dir}/{dataset}_{model.name}_Conventional_Channels={ch}_Version={version}_Fold{fld}.pth'\n",
    "epochs = 50\n",
    "load_pretrained = False\n",
    "pretrained = False\n",
    "lr = 0.001\n",
    "n_folds = 5\n",
    "parameters = {\"epochs\" : epochs,\n",
    "                \"learning_rate\" : lr ,\n",
    "                \"percentage\" : percentage,\n",
    "                \"max_length_train\" :max_length_train,\n",
    "                \"max_length_out\" :max_length_out,\n",
    "                \"channels\" : channels\n",
    "}\n",
    "\n",
    "optimizer = torch.optim.Adam(model.parameters(), lr = lr, betas= (0.9, 0.99))\n",
    "criterion = nn.MSELoss()\n",
    "early_stopping_patiance = 25\n",
    "\n",
    "\n",
    "if(pretrained):\n",
    "    model.load_state_dict(torch.load(model_path,map_location= device))\n",
    "else:\n",
    "    if(load_pretrained):\n",
    "       model.load_state_dict(torch.load(model_path,map_location= device))\n",
    "\n",
    "       model= perform_n_folds_conventional(model, n_folds,discharge_capacities, criterion, \n",
    "                    optimizer, early_stopping_patiance, model_path,\n",
    "                    parameters,version, dataset)\n",
    "    else:\n",
    "        model = perform_n_folds_conventional(model, n_folds,discharge_capacities, criterion, \n",
    "                    optimizer, early_stopping_patiance, model_path,\n",
    "                    parameters,version, dataset)\n",
    "\n",
    "\n"
   ]
  },
  {
   "cell_type": "code",
   "execution_count": null,
   "metadata": {},
   "outputs": [
    {
     "data": {
      "text/plain": [
       "<All keys matched successfully>"
      ]
     },
     "execution_count": 7,
     "metadata": {},
     "output_type": "execute_result"
    }
   ],
   "source": [
    "model = LSTM_Model_Conventional(max_length_train,len(channels))\n",
    "\n",
    "fold = 0\n",
    "model_dir = \"./Weights/Conventional/\"\n",
    "model_path = f'{model_dir}/{dataset}_{model.name}_Conventional_Channels={ch}_Version={version}_Fold{fold}.pth'\n",
    "model.load_state_dict(torch.load(model_path,map_location= device))\n"
   ]
  },
  {
   "cell_type": "code",
   "execution_count": null,
   "metadata": {},
   "outputs": [
    {
     "name": "stdout",
     "output_type": "stream",
     "text": [
      "\n",
      "\n",
      "Test loss : MSE = 0.07960352826863527, MAE = 0.19563765317201615, MAPE = 645.5896360397339 \n",
      "\n",
      "\n"
     ]
    }
   ],
   "source": [
    "test_batteries_temp = np.load(\"Test_data/test_batteries_Conventional_MIT_LSTM_fold\"+str(fold)+\"_version\" +str(version) +\".npy\",allow_pickle=True)\n",
    "data_test_temp =  get_data_conventional(discharge_capacities, channels,test_batteries_temp,max_length_train, max_length_out,percentage)\n",
    "obj_test_temp  = battery_dataloader_conventional(data_test_temp)\n",
    "test_dataloader_temp = DataLoader(obj_test_temp, batch_size=1,shuffle=False)\n",
    "\n",
    "_,_,_, outputs = test_model_conventional(model, criterion, test_dataloader_temp, True)"
   ]
  },
  {
   "cell_type": "code",
   "execution_count": null,
   "metadata": {},
   "outputs": [
    {
     "data": {
      "text/plain": [
       "[<matplotlib.lines.Line2D at 0x26d0ee62f40>]"
      ]
     },
     "execution_count": 9,
     "metadata": {},
     "output_type": "execute_result"
    },
    {
     "data": {
      "image/png": "[encoded data removed]",
      "text/plain": [
       "<Figure size 432x288 with 1 Axes>"
      ]
     },
     "metadata": {
      "needs_background": "light"
     },
     "output_type": "display_data"
    }
   ],
   "source": [
    "plt.plot(outputs[3][0].detach().numpy())\n",
    "plt.plot(outputs[3][1].detach().numpy())\n"
   ]
  },
  {
   "cell_type": "code",
   "execution_count": null,
   "metadata": {},
   "outputs": [],
   "source": []
  }
 ],
 "metadata": {
  "kernelspec": {
   "display_name": "base",
   "language": "python",
   "name": "python3"
  },
  "language_info": {
   "codemirror_mode": {
    "name": "ipython",
    "version": 3
   },
   "file_extension": ".py",
   "mimetype": "text/x-python",
   "name": "python",
   "nbconvert_exporter": "python",
   "pygments_lexer": "ipython3",
   "version": "3.9.12"
  },
  "orig_nbformat": 4
 },
 "nbformat": 4,
 "nbformat_minor": 2
}
